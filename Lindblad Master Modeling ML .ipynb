{
 "cells": [
  {
   "cell_type": "code",
   "execution_count": 1,
   "id": "f19242be",
   "metadata": {},
   "outputs": [
    {
     "name": "stdout",
     "output_type": "stream",
     "text": [
      "Collecting qutip\n",
      "  Downloading qutip-5.0.4.tar.gz (5.2 MB)\n",
      "\u001b[2K     \u001b[90m━━━━━━━━━━━━━━━━━━━━━━━━━━━━━━━━━━━━━━━━\u001b[0m \u001b[32m5.2/5.2 MB\u001b[0m \u001b[31m8.6 MB/s\u001b[0m eta \u001b[36m0:00:00\u001b[0ma \u001b[36m0:00:01\u001b[0m\n",
      "\u001b[?25h  Installing build dependencies ... \u001b[?25ldone\n",
      "\u001b[?25h  Getting requirements to build wheel ... \u001b[?25ldone\n",
      "\u001b[?25h  Preparing metadata (pyproject.toml) ... \u001b[?25ldone\n",
      "\u001b[?25hRequirement already satisfied: numpy>=1.22 in /Users/ethannussinov/opt/anaconda3/lib/python3.9/site-packages (from qutip) (1.26.1)\n",
      "Requirement already satisfied: scipy>=1.9 in /Users/ethannussinov/opt/anaconda3/lib/python3.9/site-packages (from qutip) (1.11.3)\n",
      "Requirement already satisfied: packaging in /Users/ethannussinov/opt/anaconda3/lib/python3.9/site-packages (from qutip) (21.3)\n",
      "Requirement already satisfied: pyparsing!=3.0.5,>=2.0.2 in /Users/ethannussinov/opt/anaconda3/lib/python3.9/site-packages (from packaging->qutip) (3.0.4)\n",
      "Building wheels for collected packages: qutip\n",
      "  Building wheel for qutip (pyproject.toml) ... \u001b[?25ldone\n",
      "\u001b[?25h  Created wheel for qutip: filename=qutip-5.0.4-cp39-cp39-macosx_10_9_x86_64.whl size=8333413 sha256=a4a02a2b79d5f3c0326f08430e5b03b710bda3541f48dbb5ac7bcc8d6841088b\n",
      "  Stored in directory: /Users/ethannussinov/Library/Caches/pip/wheels/b4/98/af/638f9322fb6f48b122a10c32fbea60d13682bd7af76135e615\n",
      "Successfully built qutip\n",
      "Installing collected packages: qutip\n",
      "Successfully installed qutip-5.0.4\n"
     ]
    }
   ],
   "source": [
    "!pip install qutip"
   ]
  },
  {
   "cell_type": "code",
   "execution_count": 10,
   "id": "6db3ebba",
   "metadata": {},
   "outputs": [
    {
     "data": {
      "image/png": "[encoded data removed]",
      "text/plain": [
       "<Figure size 432x288 with 1 Axes>"
      ]
     },
     "metadata": {
      "needs_background": "light"
     },
     "output_type": "display_data"
    },
    {
     "name": "stdout",
     "output_type": "stream",
     "text": [
      "Density matrix at t = 0.0:\n",
      "Quantum object: dims=[[2, 2], [2, 2]], shape=(4, 4), type='oper', dtype=Dense, isherm=True\n",
      "Qobj data =\n",
      "[[ 0.   0.   0.   0. ]\n",
      " [ 0.   0.5 -0.5  0. ]\n",
      " [ 0.  -0.5  0.5  0. ]\n",
      " [ 0.   0.   0.   0. ]]\n",
      "\n",
      "Density matrix at t = 0.10101010101010101:\n",
      "Quantum object: dims=[[2, 2], [2, 2]], shape=(4, 4), type='oper', dtype=Dense, isherm=True\n",
      "Qobj data =\n",
      "[[ 0.01005017  0.          0.          0.        ]\n",
      " [ 0.          0.49497492 -0.45655043  0.        ]\n",
      " [ 0.         -0.45655043  0.49497492  0.        ]\n",
      " [ 0.          0.          0.          0.        ]]\n",
      "\n",
      "Density matrix at t = 0.20202020202020202:\n",
      "Quantum object: dims=[[2, 2], [2, 2]], shape=(4, 4), type='oper', dtype=Dense, isherm=True\n",
      "Qobj data =\n",
      "[[ 0.01999933  0.          0.          0.        ]\n",
      " [ 0.          0.49000034 -0.41687682  0.        ]\n",
      " [ 0.         -0.41687682  0.49000034  0.        ]\n",
      " [ 0.          0.          0.          0.        ]]\n",
      "\n"
     ]
    }
   ],
   "source": [
    "import numpy as np\n",
    "from qutip import *\n",
    "import matplotlib.pyplot as plt\n",
    "\n",
    "# Define Pauli matrices for two-qubit system\n",
    "sx = sigmax()  # Pauli-X for one qubit\n",
    "sy = sigmay()  # Pauli-Y for one qubit\n",
    "sz = sigmaz()  # Pauli-Z for one qubit\n",
    "sm = destroy(2)  # Lowering operator (|1><0|)\n",
    "\n",
    "# Tensor product for two-qubit operators\n",
    "# Bell state: Psi- = (|01> - |10>) / sqrt(2)\n",
    "psi_bell = (tensor(basis(2, 0), basis(2, 1)) - tensor(basis(2, 1), basis(2, 0))).unit()\n",
    "\n",
    "# Initial state\n",
    "rho0 = psi_bell * psi_bell.dag()  # Density matrix of the initial state\n",
    "\n",
    "# Hamiltonian (can be set to zero for pure decoherence)\n",
    "H = 0 * tensor(sx, sx)  # No unitary evolution (just decoherence here)\n",
    "\n",
    "# Define Lindblad operators (noise)\n",
    "# Decoherence (dephasing)\n",
    "L_dephasing_1 = np.sqrt(0.2) * tensor(sz, qeye(2))\n",
    "L_dephasing_2 = np.sqrt(0.2) * tensor(qeye(2), sz)\n",
    "\n",
    "# Amplitude damping\n",
    "L_amplitude_1 = np.sqrt(0.1) * tensor(sm, qeye(2))\n",
    "L_amplitude_2 = np.sqrt(0.1) * tensor(qeye(2), sm)\n",
    "\n",
    "# Time points for evolution\n",
    "tlist = np.linspace(0, 10, 100)\n",
    "\n",
    "# Solve the Lindblad master equation\n",
    "result = mesolve(H, rho0, tlist, [L_dephasing_1, L_dephasing_2, L_amplitude_1, L_amplitude_2])\n",
    "\n",
    "# Get the density matrices at each time step\n",
    "rho_t = result.states\n",
    "\n",
    "# Plot the evolution of the expectation value of some observable (optional)\n",
    "expectations = expect(tensor(sz, qeye(2)), rho_t)\n",
    "plt.plot(tlist, expectations)\n",
    "plt.xlabel(\"Time\")\n",
    "plt.ylabel(r\"$\\langle \\sigma_z \\rangle$\")\n",
    "plt.show()\n",
    "\n",
    "# Display the first few density matrices as an example\n",
    "for i in range(3):\n",
    "    print(f\"Density matrix at t = {tlist[i]}:\\n{rho_t[i]}\\n\")\n",
    "print('DEBUG BELOW')\n",
    "\n"
   ]
  },
  {
   "cell_type": "code",
   "execution_count": 9,
   "id": "d3642ef8",
   "metadata": {},
   "outputs": [
    {
     "name": "stdout",
     "output_type": "stream",
     "text": [
      "Time: 0.00, Concurrence: 1.000, Label (Entangled: 1, Separable: 0): 1\n",
      "Time: 0.10, Concurrence: 0.913, Label (Entangled: 1, Separable: 0): 1\n",
      "Time: 0.20, Concurrence: 0.834, Label (Entangled: 1, Separable: 0): 1\n",
      "Time: 0.30, Concurrence: 0.761, Label (Entangled: 1, Separable: 0): 1\n",
      "Time: 0.40, Concurrence: 0.695, Label (Entangled: 1, Separable: 0): 1\n",
      "Time: 0.51, Concurrence: 0.635, Label (Entangled: 1, Separable: 0): 1\n",
      "Time: 0.61, Concurrence: 0.580, Label (Entangled: 1, Separable: 0): 1\n",
      "Time: 0.71, Concurrence: 0.529, Label (Entangled: 1, Separable: 0): 1\n",
      "Time: 0.81, Concurrence: 0.483, Label (Entangled: 1, Separable: 0): 1\n",
      "Time: 0.91, Concurrence: 0.441, Label (Entangled: 1, Separable: 0): 1\n"
     ]
    }
   ],
   "source": [
    "# Calculate concurrence for each density matrix\n",
    "concurrences = [concurrence(rho) for rho in rho_t]\n",
    "\n",
    "# Classify as entangled (concurrence > 0) or separable (concurrence = 0)\n",
    "entanglement_labels = [1 if conc > 0 else 0 for conc in concurrences]\n",
    "\n",
    "# Print the first few concurrences and labels\n",
    "for i in range(10):\n",
    "    print(f\"Time: {tlist[i]:.2f}, Concurrence: {concurrences[i]:.3f}, Label (Entangled: 1, Separable: 0): {entanglement_labels[i]}\")"
   ]
  },
  {
   "cell_type": "code",
   "execution_count": 7,
   "id": "4b202c6b",
   "metadata": {},
   "outputs": [
    {
     "name": "stdout",
     "output_type": "stream",
     "text": [
      "Features for first density matrix (with expectation values):\n",
      "[ 1. -0.  0.  0.  0.  1.  0.  0.  0.  0.  0.  0.]\n"
     ]
    }
   ],
   "source": [
    "# Calculate expectation values of Pauli matrices for each qubit\n",
    "def calculate_expectation_values(rho):\n",
    "    # Pauli matrices for the first and second qubits\n",
    "    sx1, sy1, sz1 = tensor(sigmax(), qeye(2)), tensor(sigmay(), qeye(2)), tensor(sigmaz(), qeye(2))\n",
    "    sx2, sy2, sz2 = tensor(qeye(2), sigmax()), tensor(qeye(2), sigmay()), tensor(qeye(2), sigmaz())\n",
    "    \n",
    "    # Calculate expectation values for each Pauli matrix\n",
    "    exp_sx1 = expect(sx1, rho)\n",
    "    exp_sy1 = expect(sy1, rho)\n",
    "    exp_sz1 = expect(sz1, rho)\n",
    "    exp_sx2 = expect(sx2, rho)\n",
    "    exp_sy2 = expect(sy2, rho)\n",
    "    exp_sz2 = expect(sz2, rho)\n",
    "    \n",
    "    return [exp_sx1, exp_sy1, exp_sz1, exp_sx2, exp_sy2, exp_sz2]\n",
    "\n",
    "# Update the feature extraction function to include expectation values\n",
    "def extract_features_with_expectations(rho):\n",
    "    # Calculate basic features: purity, entropy, eigenvalues\n",
    "    purity = (rho * rho).tr().real  # Purity of the state\n",
    "    entropy = entropy_vn(rho).real  # Von Neumann entropy\n",
    "    eigvals = rho.eigenenergies()   # Eigenvalues of the density matrix\n",
    "    \n",
    "    # Calculate expectation values of Pauli matrices\n",
    "    expectation_values = calculate_expectation_values(rho)\n",
    "    \n",
    "    # Combine all features: purity, entropy, eigenvalues, and expectation values\n",
    "    return [purity, entropy] + list(eigvals) + expectation_values\n",
    "\n",
    "# Extract features (with expectation values) for each density matrix in the time evolution\n",
    "features_with_expectations = [extract_features_with_expectations(rho) for rho in rho_t]\n",
    "\n",
    "# Convert to NumPy array for easier handling in machine learning\n",
    "features_with_expectations = np.array(features_with_expectations)\n",
    "\n",
    "# Print the first few feature sets with expectation values\n",
    "print(f\"Features for first density matrix (with expectation values):\\n{features_with_expectations[0]}\")\n"
   ]
  },
  {
   "cell_type": "code",
   "execution_count": 8,
   "id": "df4b3d6f",
   "metadata": {},
   "outputs": [
    {
     "name": "stdout",
     "output_type": "stream",
     "text": [
      "Accuracy: 1.00\n"
     ]
    },
    {
     "ename": "ValueError",
     "evalue": "Number of classes, 1, does not match size of target_names, 2. Try specifying the labels parameter",
     "output_type": "error",
     "traceback": [
      "\u001b[0;31m---------------------------------------------------------------------------\u001b[0m",
      "\u001b[0;31mValueError\u001b[0m                                Traceback (most recent call last)",
      "\u001b[1;32m/Users/ethannussinov/Computer Science/4080/4080/Lindblad Master Modeling ML .ipynb Cell 5\u001b[0m in \u001b[0;36m<cell line: 20>\u001b[0;34m()\u001b[0m\n\u001b[1;32m     <a href='vscode-notebook-cell:/Users/ethannussinov/Computer%20Science/4080/4080/Lindblad%20Master%20Modeling%20ML%20.ipynb#W3sZmlsZQ%3D%3D?line=16'>17</a>\u001b[0m \u001b[39mprint\u001b[39m(\u001b[39mf\u001b[39m\u001b[39m\"\u001b[39m\u001b[39mAccuracy: \u001b[39m\u001b[39m{\u001b[39;00maccuracy\u001b[39m:\u001b[39;00m\u001b[39m.2f\u001b[39m\u001b[39m}\u001b[39;00m\u001b[39m\"\u001b[39m)\n\u001b[1;32m     <a href='vscode-notebook-cell:/Users/ethannussinov/Computer%20Science/4080/4080/Lindblad%20Master%20Modeling%20ML%20.ipynb#W3sZmlsZQ%3D%3D?line=18'>19</a>\u001b[0m \u001b[39m# Detailed classification report\u001b[39;00m\n\u001b[0;32m---> <a href='vscode-notebook-cell:/Users/ethannussinov/Computer%20Science/4080/4080/Lindblad%20Master%20Modeling%20ML%20.ipynb#W3sZmlsZQ%3D%3D?line=19'>20</a>\u001b[0m \u001b[39mprint\u001b[39m(classification_report(y_test, y_pred, target_names\u001b[39m=\u001b[39;49m[\u001b[39m\"\u001b[39;49m\u001b[39mSeparable\u001b[39;49m\u001b[39m\"\u001b[39;49m, \u001b[39m\"\u001b[39;49m\u001b[39mEntangled\u001b[39;49m\u001b[39m\"\u001b[39;49m]))\n",
      "File \u001b[0;32m~/opt/anaconda3/lib/python3.9/site-packages/sklearn/utils/_param_validation.py:213\u001b[0m, in \u001b[0;36mvalidate_params.<locals>.decorator.<locals>.wrapper\u001b[0;34m(*args, **kwargs)\u001b[0m\n\u001b[1;32m    207\u001b[0m \u001b[39mtry\u001b[39;00m:\n\u001b[1;32m    208\u001b[0m     \u001b[39mwith\u001b[39;00m config_context(\n\u001b[1;32m    209\u001b[0m         skip_parameter_validation\u001b[39m=\u001b[39m(\n\u001b[1;32m    210\u001b[0m             prefer_skip_nested_validation \u001b[39mor\u001b[39;00m global_skip_validation\n\u001b[1;32m    211\u001b[0m         )\n\u001b[1;32m    212\u001b[0m     ):\n\u001b[0;32m--> 213\u001b[0m         \u001b[39mreturn\u001b[39;00m func(\u001b[39m*\u001b[39;49margs, \u001b[39m*\u001b[39;49m\u001b[39m*\u001b[39;49mkwargs)\n\u001b[1;32m    214\u001b[0m \u001b[39mexcept\u001b[39;00m InvalidParameterError \u001b[39mas\u001b[39;00m e:\n\u001b[1;32m    215\u001b[0m     \u001b[39m# When the function is just a wrapper around an estimator, we allow\u001b[39;00m\n\u001b[1;32m    216\u001b[0m     \u001b[39m# the function to delegate validation to the estimator, but we replace\u001b[39;00m\n\u001b[1;32m    217\u001b[0m     \u001b[39m# the name of the estimator by the name of the function in the error\u001b[39;00m\n\u001b[1;32m    218\u001b[0m     \u001b[39m# message to avoid confusion.\u001b[39;00m\n\u001b[1;32m    219\u001b[0m     msg \u001b[39m=\u001b[39m re\u001b[39m.\u001b[39msub(\n\u001b[1;32m    220\u001b[0m         \u001b[39mr\u001b[39m\u001b[39m\"\u001b[39m\u001b[39mparameter of \u001b[39m\u001b[39m\\\u001b[39m\u001b[39mw+ must be\u001b[39m\u001b[39m\"\u001b[39m,\n\u001b[1;32m    221\u001b[0m         \u001b[39mf\u001b[39m\u001b[39m\"\u001b[39m\u001b[39mparameter of \u001b[39m\u001b[39m{\u001b[39;00mfunc\u001b[39m.\u001b[39m\u001b[39m__qualname__\u001b[39m\u001b[39m}\u001b[39;00m\u001b[39m must be\u001b[39m\u001b[39m\"\u001b[39m,\n\u001b[1;32m    222\u001b[0m         \u001b[39mstr\u001b[39m(e),\n\u001b[1;32m    223\u001b[0m     )\n",
      "File \u001b[0;32m~/opt/anaconda3/lib/python3.9/site-packages/sklearn/metrics/_classification.py:2626\u001b[0m, in \u001b[0;36mclassification_report\u001b[0;34m(y_true, y_pred, labels, target_names, sample_weight, digits, output_dict, zero_division)\u001b[0m\n\u001b[1;32m   2620\u001b[0m         warnings\u001b[39m.\u001b[39mwarn(\n\u001b[1;32m   2621\u001b[0m             \u001b[39m\"\u001b[39m\u001b[39mlabels size, \u001b[39m\u001b[39m{0}\u001b[39;00m\u001b[39m, does not match size of target_names, \u001b[39m\u001b[39m{1}\u001b[39;00m\u001b[39m\"\u001b[39m\u001b[39m.\u001b[39mformat(\n\u001b[1;32m   2622\u001b[0m                 \u001b[39mlen\u001b[39m(labels), \u001b[39mlen\u001b[39m(target_names)\n\u001b[1;32m   2623\u001b[0m             )\n\u001b[1;32m   2624\u001b[0m         )\n\u001b[1;32m   2625\u001b[0m     \u001b[39melse\u001b[39;00m:\n\u001b[0;32m-> 2626\u001b[0m         \u001b[39mraise\u001b[39;00m \u001b[39mValueError\u001b[39;00m(\n\u001b[1;32m   2627\u001b[0m             \u001b[39m\"\u001b[39m\u001b[39mNumber of classes, \u001b[39m\u001b[39m{0}\u001b[39;00m\u001b[39m, does not match size of \u001b[39m\u001b[39m\"\u001b[39m\n\u001b[1;32m   2628\u001b[0m             \u001b[39m\"\u001b[39m\u001b[39mtarget_names, \u001b[39m\u001b[39m{1}\u001b[39;00m\u001b[39m. Try specifying the labels \u001b[39m\u001b[39m\"\u001b[39m\n\u001b[1;32m   2629\u001b[0m             \u001b[39m\"\u001b[39m\u001b[39mparameter\u001b[39m\u001b[39m\"\u001b[39m\u001b[39m.\u001b[39mformat(\u001b[39mlen\u001b[39m(labels), \u001b[39mlen\u001b[39m(target_names))\n\u001b[1;32m   2630\u001b[0m         )\n\u001b[1;32m   2631\u001b[0m \u001b[39mif\u001b[39;00m target_names \u001b[39mis\u001b[39;00m \u001b[39mNone\u001b[39;00m:\n\u001b[1;32m   2632\u001b[0m     target_names \u001b[39m=\u001b[39m [\u001b[39m\"\u001b[39m\u001b[39m%s\u001b[39;00m\u001b[39m\"\u001b[39m \u001b[39m%\u001b[39m l \u001b[39mfor\u001b[39;00m l \u001b[39min\u001b[39;00m labels]\n",
      "\u001b[0;31mValueError\u001b[0m: Number of classes, 1, does not match size of target_names, 2. Try specifying the labels parameter"
     ]
    }
   ],
   "source": [
    "from sklearn.model_selection import train_test_split\n",
    "from sklearn.ensemble import RandomForestClassifier\n",
    "from sklearn.metrics import accuracy_score, classification_report\n",
    "\n",
    "# Split data into training and testing sets\n",
    "X_train, X_test, y_train, y_test = train_test_split(features_with_expectations, entanglement_labels, test_size=0.3, random_state=42)\n",
    "\n",
    "# Train a Random Forest Classifier\n",
    "clf = RandomForestClassifier(n_estimators=100, random_state=42)\n",
    "clf.fit(X_train, y_train)\n",
    "\n",
    "# Predict on the test set\n",
    "y_pred = clf.predict(X_test)\n",
    "\n",
    "# Evaluate the model\n",
    "accuracy = accuracy_score(y_test, y_pred)\n",
    "print(f\"Accuracy: {accuracy:.2f}\")\n",
    "\n",
    "# Detailed classification report\n",
    "print(classification_report(y_test, y_pred, target_names=[\"Separable\", \"Entangled\"]))\n"
   ]
  },
  {
   "cell_type": "code",
   "execution_count": null,
   "id": "aabc1087",
   "metadata": {},
   "outputs": [],
   "source": []
  }
 ],
 "metadata": {
  "kernelspec": {
   "display_name": "base",
   "language": "python",
   "name": "python3"
  },
  "language_info": {
   "codemirror_mode": {
    "name": "ipython",
    "version": 3
   },
   "file_extension": ".py",
   "mimetype": "text/x-python",
   "name": "python",
   "nbconvert_exporter": "python",
   "pygments_lexer": "ipython3",
   "version": "3.9.12"
  },
  "vscode": {
   "interpreter": {
    "hash": "6ac3b6dd44aaff0aa9ed65164304391991eb7be0aaf461540e996ffd4cd9c15d"
   }
  }
 },
 "nbformat": 4,
 "nbformat_minor": 5
}
