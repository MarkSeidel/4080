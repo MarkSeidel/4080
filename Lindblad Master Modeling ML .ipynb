{
 "cells": [
  {
   "cell_type": "code",
   "execution_count": 6,
   "id": "6db3ebba",
   "metadata": {},
   "outputs": [
    {
     "name": "stdout",
     "output_type": "stream",
     "text": [
      "Collecting qutip\n",
      "  Using cached qutip-5.0.1.tar.gz (6.4 MB)\n",
      "  Installing build dependencies: started\n",
      "  Installing build dependencies: finished with status 'error'\n"
     ]
    },
    {
     "name": "stderr",
     "output_type": "stream",
     "text": [
      "  error: subprocess-exited-with-error\n",
      "  \n",
      "  pip subprocess to install build dependencies did not run successfully.\n",
      "  exit code: 1\n",
      "  \n",
      "  [14 lines of output]\n",
      "  Ignoring cython: markers 'python_version >= \"3.10\"' don't match your environment\n",
      "  Collecting setuptools\n",
      "    Using cached setuptools-68.0.0-py3-none-any.whl.metadata (6.4 kB)\n",
      "  Collecting packaging\n",
      "    Using cached packaging-24.0-py3-none-any.whl.metadata (3.2 kB)\n",
      "  Collecting wheel\n",
      "    Using cached wheel-0.42.0-py3-none-any.whl.metadata (2.2 kB)\n",
      "  Collecting cython<3.0.3,>=0.29.20\n",
      "    Using cached Cython-3.0.2-cp37-cp37m-win_amd64.whl.metadata (3.2 kB)\n",
      "  Collecting oldest-supported-numpy\n",
      "    Using cached oldest_supported_numpy-2023.12.21-py3-none-any.whl.metadata (9.8 kB)\n",
      "  ERROR: Ignored the following versions that require a different python version: 0.43.0 Requires-Python >=3.8; 0.44.0 Requires-Python >=3.8; 1.10.0 Requires-Python <3.12,>=3.8; 1.10.0rc1 Requires-Python <3.12,>=3.8; 1.10.0rc2 Requires-Python <3.12,>=3.8; 1.10.1 Requires-Python <3.12,>=3.8; 1.11.0 Requires-Python <3.13,>=3.9; 1.11.0rc1 Requires-Python <3.13,>=3.9; 1.11.0rc2 Requires-Python <3.13,>=3.9; 1.11.1 Requires-Python <3.13,>=3.9; 1.11.2 Requires-Python <3.13,>=3.9; 1.11.3 Requires-Python <3.13,>=3.9; 1.11.4 Requires-Python >=3.9; 1.12.0 Requires-Python >=3.9; 1.12.0rc1 Requires-Python >=3.9; 1.12.0rc2 Requires-Python >=3.9; 1.13.0 Requires-Python >=3.9; 1.13.0rc1 Requires-Python >=3.9; 1.13.1 Requires-Python >=3.9; 1.14.0 Requires-Python >=3.10; 1.14.0rc1 Requires-Python >=3.10; 1.14.0rc2 Requires-Python >=3.10; 1.14.1 Requires-Python >=3.10; 1.8.0 Requires-Python >=3.8,<3.11; 1.8.0rc1 Requires-Python >=3.8,<3.11; 1.8.0rc2 Requires-Python >=3.8,<3.11; 1.8.0rc3 Requires-Python >=3.8,<3.11; 1.8.0rc4 Requires-Python >=3.8,<3.11; 1.8.1 Requires-Python >=3.8,<3.11; 1.9.0 Requires-Python >=3.8,<3.12; 1.9.0rc1 Requires-Python >=3.8,<3.12; 1.9.0rc2 Requires-Python >=3.8,<3.12; 1.9.0rc3 Requires-Python >=3.8,<3.12; 1.9.1 Requires-Python >=3.8,<3.12; 1.9.2 Requires-Python >=3.8; 1.9.3 Requires-Python >=3.8; 24.1 Requires-Python >=3.8; 68.1.0 Requires-Python >=3.8; 68.1.2 Requires-Python >=3.8; 68.2.0 Requires-Python >=3.8; 68.2.1 Requires-Python >=3.8; 68.2.2 Requires-Python >=3.8; 69.0.0 Requires-Python >=3.8; 69.0.1 Requires-Python >=3.8; 69.0.2 Requires-Python >=3.8; 69.0.3 Requires-Python >=3.8; 69.1.0 Requires-Python >=3.8; 69.1.1 Requires-Python >=3.8; 69.2.0 Requires-Python >=3.8; 69.3 Requires-Python >=3.8; 69.3.0 Requires-Python >=3.8; 69.3.1 Requires-Python >=3.8; 69.4 Requires-Python >=3.8; 69.4.0 Requires-Python >=3.8; 69.4.1 Requires-Python >=3.8; 69.4.2 Requires-Python >=3.8; 69.5.0 Requires-Python >=3.8; 69.5.1 Requires-Python >=3.8; 70.0.0 Requires-Python >=3.8; 70.1.0 Requires-Python >=3.8; 70.1.1 Requires-Python >=3.8; 70.2.0 Requires-Python >=3.8; 70.3.0 Requires-Python >=3.8; 71.0.0 Requires-Python >=3.8; 71.0.1 Requires-Python >=3.8; 71.0.2 Requires-Python >=3.8; 71.0.3 Requires-Python >=3.8; 71.0.4 Requires-Python >=3.8; 71.1.0 Requires-Python >=3.8; 72.0.0 Requires-Python >=3.8; 72.1.0 Requires-Python >=3.8; 72.2.0 Requires-Python >=3.8; 73.0.0 Requires-Python >=3.8; 73.0.1 Requires-Python >=3.8; 74.0.0 Requires-Python >=3.8; 74.1.0 Requires-Python >=3.8; 74.1.1 Requires-Python >=3.8; 74.1.2 Requires-Python >=3.8; 74.1.3 Requires-Python >=3.8; 75.0.0 Requires-Python >=3.8; 75.1.0 Requires-Python >=3.8\n",
      "  ERROR: Could not find a version that satisfies the requirement scipy>=1.8 (from versions: 0.8.0, 0.9.0, 0.10.0, 0.10.1, 0.11.0, 0.12.0, 0.12.1, 0.13.0, 0.13.1, 0.13.2, 0.13.3, 0.14.0, 0.14.1, 0.15.0, 0.15.1, 0.16.0, 0.16.1, 0.17.0, 0.17.1, 0.18.0, 0.18.1, 0.19.0, 0.19.1, 1.0.0, 1.0.1, 1.1.0, 1.2.0, 1.2.1, 1.2.2, 1.2.3, 1.3.0, 1.3.1, 1.3.2, 1.3.3, 1.4.0, 1.4.1, 1.5.0, 1.5.1, 1.5.2, 1.5.3, 1.5.4, 1.6.0, 1.6.1, 1.6.2, 1.6.3, 1.7.0, 1.7.1, 1.7.2, 1.7.3)\n",
      "  ERROR: No matching distribution found for scipy>=1.8\n",
      "  [end of output]\n",
      "  \n",
      "  note: This error originates from a subprocess, and is likely not a problem with pip.\n",
      "error: subprocess-exited-with-error\n",
      "\n",
      "pip subprocess to install build dependencies did not run successfully.\n",
      "exit code: 1\n",
      "\n",
      "See above for output.\n",
      "\n",
      "note: This error originates from a subprocess, and is likely not a problem with pip.\n"
     ]
    },
    {
     "ename": "ModuleNotFoundError",
     "evalue": "No module named 'qutip'",
     "output_type": "error",
     "traceback": [
      "\u001b[1;31m---------------------------------------------------------------------------\u001b[0m",
      "\u001b[1;31mModuleNotFoundError\u001b[0m                       Traceback (most recent call last)",
      "\u001b[1;32m~\\AppData\\Local\\Temp\\ipykernel_16684\\3411908915.py\u001b[0m in \u001b[0;36m<module>\u001b[1;34m\u001b[0m\n\u001b[0;32m      1\u001b[0m \u001b[1;32mimport\u001b[0m \u001b[0mnumpy\u001b[0m \u001b[1;32mas\u001b[0m \u001b[0mnp\u001b[0m\u001b[1;33m\u001b[0m\u001b[1;33m\u001b[0m\u001b[0m\n\u001b[0;32m      2\u001b[0m \u001b[0mget_ipython\u001b[0m\u001b[1;33m(\u001b[0m\u001b[1;33m)\u001b[0m\u001b[1;33m.\u001b[0m\u001b[0msystem\u001b[0m\u001b[1;33m(\u001b[0m\u001b[1;34m'pip install qutip'\u001b[0m\u001b[1;33m)\u001b[0m\u001b[1;33m\u001b[0m\u001b[1;33m\u001b[0m\u001b[0m\n\u001b[1;32m----> 3\u001b[1;33m \u001b[1;32mfrom\u001b[0m \u001b[0mqutip\u001b[0m \u001b[1;32mimport\u001b[0m \u001b[1;33m*\u001b[0m\u001b[1;33m\u001b[0m\u001b[1;33m\u001b[0m\u001b[0m\n\u001b[0m\u001b[0;32m      4\u001b[0m \u001b[1;32mimport\u001b[0m \u001b[0mmatplotlib\u001b[0m\u001b[1;33m.\u001b[0m\u001b[0mpyplot\u001b[0m \u001b[1;32mas\u001b[0m \u001b[0mplt\u001b[0m\u001b[1;33m\u001b[0m\u001b[1;33m\u001b[0m\u001b[0m\n\u001b[0;32m      5\u001b[0m \u001b[1;33m\u001b[0m\u001b[0m\n",
      "\u001b[1;31mModuleNotFoundError\u001b[0m: No module named 'qutip'"
     ]
    }
   ],
   "source": [
    "import numpy as np\n",
    "!pip install qutip\n",
    "from qutip import *\n",
    "import matplotlib.pyplot as plt\n",
    "\n",
    "# Define Pauli matrices for two-qubit system\n",
    "sx = sigmax()  # Pauli-X for one qubit\n",
    "sy = sigmay()  # Pauli-Y for one qubit\n",
    "sz = sigmaz()  # Pauli-Z for one qubit\n",
    "sm = destroy(2)  # Lowering operator (|1><0|)\n",
    "\n",
    "# Tensor product for two-qubit operators\n",
    "# Bell state: Psi- = (|01> - |10>) / sqrt(2)\n",
    "psi_bell = (basis(2, 0) * basis(2, 1).dag() - basis(2, 1) * basis(2, 0).dag()).unit()\n",
    "\n",
    "# Initial state\n",
    "rho0 = psi_bell * psi_bell.dag()  # Density matrix of the initial state\n",
    "\n",
    "# Hamiltonian (can be set to zero for pure decoherence)\n",
    "H = 0 * tensor(sx, sx)  # No unitary evolution (just decoherence here)\n",
    "\n",
    "# Define Lindblad operators (noise)\n",
    "# Decoherence (dephasing)\n",
    "L_dephasing_1 = np.sqrt(0.2) * tensor(sz, qeye(2))\n",
    "L_dephasing_2 = np.sqrt(0.2) * tensor(qeye(2), sz)\n",
    "\n",
    "# Amplitude damping\n",
    "L_amplitude_1 = np.sqrt(0.1) * tensor(sm, qeye(2))\n",
    "L_amplitude_2 = np.sqrt(0.1) * tensor(qeye(2), sm)\n",
    "\n",
    "# Time points for evolution\n",
    "tlist = np.linspace(0, 10, 100)\n",
    "\n",
    "# Solve the Lindblad master equation\n",
    "result = mesolve(H, rho0, tlist, [L_dephasing_1, L_dephasing_2, L_amplitude_1, L_amplitude_2])\n",
    "\n",
    "# Get the density matrices at each time step\n",
    "rho_t = result.states\n",
    "\n",
    "# Plot the evolution of the expectation value of some observable (optional)\n",
    "expectations = expect(tensor(sz, qeye(2)), rho_t)\n",
    "plt.plot(tlist, expectations)\n",
    "plt.xlabel(\"Time\")\n",
    "plt.ylabel(r\"$\\langle \\sigma_z \\rangle$\")\n",
    "plt.show()\n",
    "\n",
    "# Display the first few density matrices as an example\n",
    "for i in range(3):\n",
    "    print(f\"Density matrix at t = {tlist[i]}:\\n{rho_t[i]}\\n\")"
   ]
  },
  {
   "cell_type": "code",
   "execution_count": 7,
   "id": "d3642ef8",
   "metadata": {},
   "outputs": [
    {
     "ename": "NameError",
     "evalue": "name 'rho_t' is not defined",
     "output_type": "error",
     "traceback": [
      "\u001b[1;31m---------------------------------------------------------------------------\u001b[0m",
      "\u001b[1;31mNameError\u001b[0m                                 Traceback (most recent call last)",
      "\u001b[1;32m~\\AppData\\Local\\Temp\\ipykernel_16684\\2065306075.py\u001b[0m in \u001b[0;36m<module>\u001b[1;34m\u001b[0m\n\u001b[0;32m      1\u001b[0m \u001b[1;31m# Calculate concurrence for each density matrix\u001b[0m\u001b[1;33m\u001b[0m\u001b[1;33m\u001b[0m\u001b[1;33m\u001b[0m\u001b[0m\n\u001b[1;32m----> 2\u001b[1;33m \u001b[0mconcurrences\u001b[0m \u001b[1;33m=\u001b[0m \u001b[1;33m[\u001b[0m\u001b[0mconcurrence\u001b[0m\u001b[1;33m(\u001b[0m\u001b[0mrho\u001b[0m\u001b[1;33m)\u001b[0m \u001b[1;32mfor\u001b[0m \u001b[0mrho\u001b[0m \u001b[1;32min\u001b[0m \u001b[0mrho_t\u001b[0m\u001b[1;33m]\u001b[0m\u001b[1;33m\u001b[0m\u001b[1;33m\u001b[0m\u001b[0m\n\u001b[0m\u001b[0;32m      3\u001b[0m \u001b[1;33m\u001b[0m\u001b[0m\n\u001b[0;32m      4\u001b[0m \u001b[1;31m# Classify as entangled (concurrence > 0) or separable (concurrence = 0)\u001b[0m\u001b[1;33m\u001b[0m\u001b[1;33m\u001b[0m\u001b[1;33m\u001b[0m\u001b[0m\n\u001b[0;32m      5\u001b[0m \u001b[0mentanglement_labels\u001b[0m \u001b[1;33m=\u001b[0m \u001b[1;33m[\u001b[0m\u001b[1;36m1\u001b[0m \u001b[1;32mif\u001b[0m \u001b[0mconc\u001b[0m \u001b[1;33m>\u001b[0m \u001b[1;36m0\u001b[0m \u001b[1;32melse\u001b[0m \u001b[1;36m0\u001b[0m \u001b[1;32mfor\u001b[0m \u001b[0mconc\u001b[0m \u001b[1;32min\u001b[0m \u001b[0mconcurrences\u001b[0m\u001b[1;33m]\u001b[0m\u001b[1;33m\u001b[0m\u001b[1;33m\u001b[0m\u001b[0m\n",
      "\u001b[1;31mNameError\u001b[0m: name 'rho_t' is not defined"
     ]
    }
   ],
   "source": [
    "# Calculate concurrence for each density matrix\n",
    "concurrences = [concurrence(rho) for rho in rho_t]\n",
    "\n",
    "# Classify as entangled (concurrence > 0) or separable (concurrence = 0)\n",
    "entanglement_labels = [1 if conc > 0 else 0 for conc in concurrences]\n",
    "\n",
    "# Print the first few concurrences and labels\n",
    "for i in range(3):\n",
    "    print(f\"Time: {tlist[i]:.2f}, Concurrence: {concurrences[i]:.3f}, Label (Entangled: 1, Separable: 0): {entanglement_labels[i]}\")"
   ]
  },
  {
   "cell_type": "code",
   "execution_count": null,
   "id": "4b202c6b",
   "metadata": {},
   "outputs": [],
   "source": [
    "# Calculate expectation values of Pauli matrices for each qubit\n",
    "def calculate_expectation_values(rho):\n",
    "    # Pauli matrices for the first and second qubits\n",
    "    sx1, sy1, sz1 = tensor(sigmax(), qeye(2)), tensor(sigmay(), qeye(2)), tensor(sigmaz(), qeye(2))\n",
    "    sx2, sy2, sz2 = tensor(qeye(2), sigmax()), tensor(qeye(2), sigmay()), tensor(qeye(2), sigmaz())\n",
    "    \n",
    "    # Calculate expectation values for each Pauli matrix\n",
    "    exp_sx1 = expect(sx1, rho)\n",
    "    exp_sy1 = expect(sy1, rho)\n",
    "    exp_sz1 = expect(sz1, rho)\n",
    "    exp_sx2 = expect(sx2, rho)\n",
    "    exp_sy2 = expect(sy2, rho)\n",
    "    exp_sz2 = expect(sz2, rho)\n",
    "    \n",
    "    return [exp_sx1, exp_sy1, exp_sz1, exp_sx2, exp_sy2, exp_sz2]\n",
    "\n",
    "# Update the feature extraction function to include expectation values\n",
    "def extract_features_with_expectations(rho):\n",
    "    # Calculate basic features: purity, entropy, eigenvalues\n",
    "    purity = (rho * rho).tr().real  # Purity of the state\n",
    "    entropy = entropy_vn(rho).real  # Von Neumann entropy\n",
    "    eigvals = rho.eigenenergies()   # Eigenvalues of the density matrix\n",
    "    \n",
    "    # Calculate expectation values of Pauli matrices\n",
    "    expectation_values = calculate_expectation_values(rho)\n",
    "    \n",
    "    # Combine all features: purity, entropy, eigenvalues, and expectation values\n",
    "    return [purity, entropy] + list(eigvals) + expectation_values\n",
    "\n",
    "# Extract features (with expectation values) for each density matrix in the time evolution\n",
    "features_with_expectations = [extract_features_with_expectations(rho) for rho in rho_t]\n",
    "\n",
    "# Convert to NumPy array for easier handling in machine learning\n",
    "features_with_expectations = np.array(features_with_expectations)\n",
    "\n",
    "# Print the first few feature sets with expectation values\n",
    "print(f\"Features for first density matrix (with expectation values):\\n{features_with_expectations[0]}\")\n"
   ]
  },
  {
   "cell_type": "code",
   "execution_count": null,
   "id": "df4b3d6f",
   "metadata": {},
   "outputs": [],
   "source": [
    "from sklearn.model_selection import train_test_split\n",
    "from sklearn.ensemble import RandomForestClassifier\n",
    "from sklearn.metrics import accuracy_score, classification_report\n",
    "\n",
    "# Split data into training and testing sets\n",
    "X_train, X_test, y_train, y_test = train_test_split(features_with_expectations, entanglement_labels, test_size=0.3, random_state=42)\n",
    "\n",
    "# Train a Random Forest Classifier\n",
    "clf = RandomForestClassifier(n_estimators=100, random_state=42)\n",
    "clf.fit(X_train, y_train)\n",
    "\n",
    "# Predict on the test set\n",
    "y_pred = clf.predict(X_test)\n",
    "\n",
    "# Evaluate the model\n",
    "accuracy = accuracy_score(y_test, y_pred)\n",
    "print(f\"Accuracy: {accuracy:.2f}\")\n",
    "\n",
    "# Detailed classification report\n",
    "print(classification_report(y_test, y_pred, target_names=[\"Separable\", \"Entangled\"]))\n"
   ]
  }
 ],
 "metadata": {
  "kernelspec": {
   "display_name": "Python 3 (ipykernel)",
   "language": "python",
   "name": "python3"
  },
  "language_info": {
   "codemirror_mode": {
    "name": "ipython",
    "version": 3
   },
   "file_extension": ".py",
   "mimetype": "text/x-python",
   "name": "python",
   "nbconvert_exporter": "python",
   "pygments_lexer": "ipython3",
   "version": "3.7.9"
  }
 },
 "nbformat": 4,
 "nbformat_minor": 5
}
